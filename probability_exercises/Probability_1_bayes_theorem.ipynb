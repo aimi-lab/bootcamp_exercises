{
  "cells": [
    {
      "cell_type": "markdown",
      "metadata": {
        "id": "MPekshasBsWm"
      },
      "source": [
        "# Bayes Theorem\n",
        "\n",
        "Thomas Bayes was an 18th-century British mathematician who developed a mathematical formula to calculate conditional probability in order to provide a way to re-examine current expectations. This mathematical formula is well known as Bayes Theorem or Bayes’ rule.\n",
        "\n",
        "![Thomas Bayes](images/introduction_01.gif)\\\n",
        "Thomas Bayes\n",
        "\n",
        "\n",
        "\n",
        "Some applications of the Bayes rule include\n",
        "\n",
        "*   Bayesian Networks\n",
        "*   Identification of disaster victims\n",
        "*   Risk evaluation computation and update (finance)\n",
        "\n",
        "Definition of conditional probability\n",
        "\\begin{equation}\n",
        "P(A|B) = \\frac{P(A\\cap B)}{P(B)}\n",
        "\\end{equation}\n",
        "\n",
        "\\begin{equation}\n",
        "P(B|A) = \\frac{P(B\\cap A)}{P(A)}\n",
        "\\end{equation}\n",
        "\n",
        "\n",
        "From the previous formulas we can obtain the probability of the intersection of two events\n",
        "\\begin{equation}\n",
        "P(A\\cap B) = P(B) P(A|B) = P(A)P(B|A)\n",
        "\\end{equation}\n",
        "\n",
        "We arrive then at the Bayes theorem\n",
        "\\begin{equation}\n",
        "P(A|B) = \\frac{P(B|A)P(A)}{P(B)}\n",
        "\\end{equation}\n",
        "\n",
        "Sometimes we do not have explicit or direct access to $P(B)$. To compute it, we can use the law of total probability, which states that if $A_1, A_2, ..., A_K$ are mutually exclusive and exhaustive events, then the probability of an event B in the sample space is given by\n",
        "\n",
        "\\begin{equation}\n",
        "P(B) = P(B\\cap A_1) + P(B\\cap A_2) + ... + P(B\\cap A_K)\n",
        "\\end{equation}\n",
        "\n",
        "We can visualize this for the case $K=3$ in the following figure\n",
        "\n",
        "![Thomas Bayes](images/introduction_02.png)\n",
        "\n",
        "Combining this with the definition of conditional probability, we obtain\n",
        "\n",
        "\\begin{equation}\n",
        "P(B) = P(B|A_1)P(A_1) + P(B|A_2)P(A_2) + ...+ P(B| A_K) P(A_K) = \\sum_{i=1}^k P(B|A_i) P(A_i)\n",
        "\\end{equation}\n",
        "\n"
      ]
    },
    {
      "cell_type": "markdown",
      "metadata": {
        "id": "oD1_vUe5I7Dp"
      },
      "source": [
        "## The Bayes theorem in action\n",
        "\n",
        "### Exercise 1\n",
        "\n",
        "Suppose a new home HIV test is claimed to have \"95% sensitivity and 98% specificity\", and is to be used in a population fo size 100000, with an HIV prevalence of 1/1000. We expect (1/1000)x100000 = 100 people to be truly HIV positive, of whom 95% (95) will test positive. Of the 99900 negative individuals, we expect 2% (1998) to test positive (see image below).\n",
        "\n",
        "![Example bayes](images/exercise_01.png)"
      ]
    },
    {
      "cell_type": "markdown",
      "metadata": {
        "id": "Vhd0pUk9LE1j"
      },
      "source": [
        "Use the Bayes theorem to find the probability that the person is truly positive, given that the test is positive, i.e. find $P(person \\, truly\\, positive \\,| \\,test\\, positive).$ Complete the following code to achive this. \\"
      ]
    },
    {
      "cell_type": "code",
      "execution_count": null,
      "metadata": {
        "id": "gjD33zrJIE9D"
      },
      "outputs": [],
      "source": [
        "# First, define the hypotheses and events\n",
        "# h0: The person is truly positive\n",
        "# h1: The person is truly negative\n",
        "# x: The person tests positive\n",
        "\n",
        "# Define a short function that takes p(B|A), P(A) and P(B) as inputs and returns P(A|B)\n",
        "def bayes_formula(p_b_given_a, p_a, p_b):\n",
        "  # ** TO BE COMPLETED **\n",
        "  return\n",
        "\n",
        "# Assign the values of the probabilities, and then use the created function bayes_formula to get the value of the desired probability\n",
        "p_h0 =\n",
        "p_x_given_h0 =\n",
        "p_x_given_h1 =\n",
        "p_x =\n",
        "\n",
        "p_h0_given_x = # call function\n",
        "\n",
        "print('P(H0|x) =', p_h0_given_x)"
      ]
    },
    {
      "cell_type": "markdown",
      "metadata": {
        "id": "HlY08okNJ8aK"
      },
      "source": [
        "### Exercise 2\n",
        "\n",
        "An [ectopic pregnancy](https://www.mayoclinic.org/diseases-conditions/ectopic-pregnancy/symptoms-causes/syc-20372088) is twice as likely to develop when the pregnant woman is a smoker as it is when she is a nonsmoker. If 32 percent of women of childbearing age are smokers, what percentage of women having ectopic pregnancies are smokers?\n",
        "\n",
        "![Example bayes](images/exercise_02.png)\n"
      ]
    },
    {
      "cell_type": "code",
      "execution_count": null,
      "metadata": {
        "id": "2wNrq1GoM1Rt"
      },
      "outputs": [],
      "source": [
        "# First, define the events\n",
        "# S: A woman is a smoker\n",
        "# E: A woman has an ectopic pregnancy\n",
        "\n",
        "# Given probability values\n",
        "p_s =\n",
        "p_sc =   # probability of S complement\n",
        "\n",
        "p_s_given_e =   # Hint: Try to develop the formula on paper first ;)\n",
        "\n",
        "print('P(S|E) =', p_s_given_e)"
      ]
    },
    {
      "cell_type": "markdown",
      "metadata": {
        "id": "5MwfXD_vM3CG"
      },
      "source": [
        "### Exercise 3\n",
        "\n",
        "Ninety-eight percent of all babies survive delivery. However, 15 percent of all births involve Cesarean (C) sections, and when a C section is performed, the baby survives 96 percent of the time. If a randomly chosen pregnant woman DOES NOT have a C section, what is the probability that her baby survives?\n",
        "\n",
        "![Example bayes](images/exercise_03.png)"
      ]
    },
    {
      "cell_type": "code",
      "execution_count": null,
      "metadata": {
        "id": "fkqyTtzKNME2"
      },
      "outputs": [],
      "source": [
        "# We define the events\n",
        "# C:\n",
        "# S:\n",
        "\n",
        "# We want to calculate the probability that the baby survives, given that the woman is NOT having a C-Section\n",
        "\n",
        "# Hint: For this exercise you do not need to explicitely use the Bayes rule\n",
        "\n",
        "# ** TO BE COMPLETED **"
      ]
    },
    {
      "cell_type": "markdown",
      "metadata": {
        "id": "VBY97mv1NOjy"
      },
      "source": [
        "### Exercise 4\n",
        "\n",
        "Ms. Aquina has just had a biopsy on a possibly cancerous tumor. Not wanting to spoil a weekend family event, she does not want to hear any bad news in the next few days. But if she tells the doctor to call only if the news is good, then if the doctor does not call, Ms. Aquina can conclude that the news is bad. So, being a student of probability, Ms. Aquina instructs the doctor to flip a coin. If it comes up heads, the doctor is to call if the news is good and not call if the news is bad. If the coin comes up tails, the doctor is not to call. In this way, even if the doctor doesn't call, the news is not necessarily bad. Let $\\alpha$ be the probability that the tumor is cancerous; let $\\beta$ be the conditional probability that the tumor is cancerous given that the doctor does not call.\n",
        "\n",
        "a) Which should be larger, $\\alpha$ or $\\beta$? \\\n",
        "b) Find $\\beta$ in terms of $\\alpha$, and prove your answer in part (a).\\\n",
        "c) Use the expresion from b) to find the value of $\\beta$ if $\\alpha = 0.3$"
      ]
    },
    {
      "cell_type": "code",
      "execution_count": null,
      "metadata": {
        "id": "AmbnqqQsVON8"
      },
      "outputs": [],
      "source": [
        "# Events\n",
        "# B: Ms. Aquina has cancer and the doctor has bad news\n",
        "# G: Ms. Aquina does not have cancer and the results of the test are good\n",
        "# C: The doctor calls\n",
        "# notice that alpha = P(B) and beta = P(B|Cc) i.e. where Cc is the probability that the doctor does not call\n",
        "\n",
        "# part a\n",
        "# You do not need to write code here, just make sure you think about the answer :)\n",
        "\n",
        "# part b\n",
        "def get_beta(alpha):\n",
        "  # ** TO BE COMPLETED **\n",
        "  return\n",
        "\n",
        "# part c\n",
        "alpha = 0.3\n",
        "beta = get_beta(alpha)\n",
        "print('When alpha equals', alpha, ', the value of beta is', beta)"
      ]
    }
  ],
  "metadata": {
    "colab": {
      "provenance": [],
      "toc_visible": true
    },
    "kernelspec": {
      "display_name": "base",
      "language": "python",
      "name": "python3"
    },
    "language_info": {
      "codemirror_mode": {
        "name": "ipython",
        "version": 3
      },
      "file_extension": ".py",
      "mimetype": "text/x-python",
      "name": "python",
      "nbconvert_exporter": "python",
      "pygments_lexer": "ipython3",
      "version": "3.11.8"
    }
  },
  "nbformat": 4,
  "nbformat_minor": 0
}
