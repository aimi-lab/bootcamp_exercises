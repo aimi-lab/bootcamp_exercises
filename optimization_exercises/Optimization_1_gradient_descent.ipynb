{
 "cells": [
  {
   "cell_type": "code",
   "execution_count": 1,
   "id": "3d49a60a",
   "metadata": {},
   "outputs": [],
   "source": [
    "import numpy as np\n",
    "import matplotlib.pyplot as plt"
   ]
  },
  {
   "cell_type": "markdown",
   "id": "d1235fad",
   "metadata": {},
   "source": [
    "# Gradient descent\n",
    "\n",
    "Let's try to find the minimum of the function f(x) = ln(x**2 + 1) + sin(x)"
   ]
  },
  {
   "cell_type": "markdown",
   "id": "11f3819f",
   "metadata": {},
   "source": [
    "1) Plot the function within the range -7 to 7. What can you say about the minimum?"
   ]
  },
  {
   "cell_type": "markdown",
   "id": "33e58aa5",
   "metadata": {},
   "source": [
    "2) Calculate the first derivative on points x=2 and x=3. What are the results and what do they mean?"
   ]
  },
  {
   "cell_type": "markdown",
   "id": "dc586032",
   "metadata": {},
   "source": [
    "3) Following the gradient descent algorithm, starting with x0=2 and using a learning rate lr=1, what will be the next step? Does it make sense? Did it go in the direction of the global minimum?"
   ]
  },
  {
   "cell_type": "markdown",
   "id": "4c640e36",
   "metadata": {},
   "source": [
    "4) Repeat the previous exercise with `x0=3`and `lr=1`. What happened now?"
   ]
  },
  {
   "cell_type": "markdown",
   "id": "bcaa785f",
   "metadata": {},
   "source": [
    "5) Try it now with x0=2and lr=10. What happened? What should be the value of the first derivative of this new point?"
   ]
  },
  {
   "cell_type": "markdown",
   "id": "96a4e0b7",
   "metadata": {},
   "source": [
    "6) With `x0=2` and `lr=1`, implement a loop to find the minimum of the function using the gradient descent algorithm.\n",
    "- Print intermediate results\n",
    "- What are your stop criteria? How many steps were needed?\n",
    "- Can you plot what happened?"
   ]
  },
  {
   "cell_type": "markdown",
   "id": "6c1a53e0",
   "metadata": {},
   "source": [
    "7) Repeat the previous exercise with the following parameters and comment on the results found:\n",
    "- `x0=3` and `lr=1`\n",
    "- `x0=2` and `lr=.1`\n",
    "- `x0=2` and `lr=2`"
   ]
  }
 ],
 "metadata": {
  "kernelspec": {
   "display_name": "Python 3 (ipykernel)",
   "language": "python",
   "name": "python3"
  },
  "language_info": {
   "codemirror_mode": {
    "name": "ipython",
    "version": 3
   },
   "file_extension": ".py",
   "mimetype": "text/x-python",
   "name": "python",
   "nbconvert_exporter": "python",
   "pygments_lexer": "ipython3",
   "version": "3.8.13"
  }
 },
 "nbformat": 4,
 "nbformat_minor": 5
}
