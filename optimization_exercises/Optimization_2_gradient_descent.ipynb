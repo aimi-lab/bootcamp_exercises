{
 "cells": [
  {
   "cell_type": "code",
   "execution_count": 1,
   "id": "3d49a60a",
   "metadata": {},
   "outputs": [],
   "source": [
    "import numpy as np\n",
    "import itertools\n",
    "import matplotlib.pyplot as plt"
   ]
  },
  {
   "cell_type": "markdown",
   "id": "d1235fad",
   "metadata": {},
   "source": [
    "# Gradient descent\n",
    "\n",
    "Let's try to find the minimum of the function f(x) = (x^2 + y - 11)^2 + (x + y^2 - 7)^2 (himmelblau function)"
   ]
  },
  {
   "cell_type": "markdown",
   "id": "11f3819f",
   "metadata": {},
   "source": [
    "1) Plot the function within the x and y range of -5 to 5. What can you say about the minimum?"
   ]
  },
  {
   "cell_type": "markdown",
   "id": "33e58aa5",
   "metadata": {},
   "source": [
    "2) Calculate the gradient on points x=2 and y=2. What are the results and what do they mean?"
   ]
  },
  {
   "cell_type": "markdown",
   "id": "dc586032",
   "metadata": {},
   "source": [
    "3) Following the gradient descent algorithm, starting with x=2 and y=2 and using a learning rate lr=0.01, what will be the next step? Does it make sense? Did it go in the direction of the minimum?"
   ]
  },
  {
   "cell_type": "markdown",
   "id": "96a4e0b7",
   "metadata": {},
   "source": [
    "6) With `x=0, y=-4` and `lr=0.01`, implement a loop to find the minimum of the function using the gradient descent algorithm.\n",
    "- Print intermediate results\n",
    "- What are your stop criteria? How many steps were needed?\n",
    "- Can you plot what happened?"
   ]
  },
  {
   "cell_type": "markdown",
   "id": "6826c81f",
   "metadata": {},
   "source": [
    "7) Plot the evolution of fx by iterations"
   ]
  }
 ],
 "metadata": {
  "kernelspec": {
   "display_name": "Python 3 (ipykernel)",
   "language": "python",
   "name": "python3"
  },
  "language_info": {
   "codemirror_mode": {
    "name": "ipython",
    "version": 3
   },
   "file_extension": ".py",
   "mimetype": "text/x-python",
   "name": "python",
   "nbconvert_exporter": "python",
   "pygments_lexer": "ipython3",
   "version": "3.8.13"
  }
 },
 "nbformat": 4,
 "nbformat_minor": 5
}
