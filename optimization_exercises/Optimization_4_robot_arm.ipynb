{
 "cells": [
  {
   "cell_type": "markdown",
   "id": "768899fa",
   "metadata": {},
   "source": [
    "# Mechanical arm\n",
    "\n",
    "In this exercise we will simulate a mechanical arm, consisting of 2 separate parts, trying to reach a target with its grip (the end of the second part). We will make use of optimization techniques discussed this morning to get the grip as close to the target as possible.\n",
    "\n",
    "Both parts of the arm have a length of 1. The position of the arm grip can be determined by 2 angles, $\\alpha$ and $\\beta$, as in the figure below, where  $\\alpha$ gives the angle of the first part of the arm with respect to the x-axis, and $\\beta$ gives the angle of the second part of the arm with respect to the first part. The target is defined by two coordinates X and Y."
   ]
  },
  {
   "attachments": {
    "robot_arm.jpeg": {
     "image/jpeg": "[encoded data removed]"
    }
   },
   "cell_type": "markdown",
   "id": "58edd76a",
   "metadata": {},
   "source": [
    "![robot_arm.jpeg](attachment:robot_arm.jpeg)"
   ]
  },
  {
   "cell_type": "markdown",
   "id": "932fed2d",
   "metadata": {},
   "source": [
    "## Auxiliary functions"
   ]
  },
  {
   "cell_type": "code",
   "execution_count": 1,
   "id": "a1001052",
   "metadata": {},
   "outputs": [],
   "source": [
    "from typing import List, Tuple\n",
    "from functools import partial\n",
    "\n",
    "import numpy as np\n",
    "import matplotlib.pyplot as plt\n",
    "from matplotlib.animation import FuncAnimation\n",
    "plt.rcParams[\"animation.html\"] = \"jshtml\""
   ]
  },
  {
   "cell_type": "code",
   "execution_count": 2,
   "id": "aef538ce",
   "metadata": {},
   "outputs": [],
   "source": [
    "def plot_2dsurface(alphas, betas, target=[-.25, -1], min_angle=-np.pi, max_angle=np.pi):\n",
    "    alphas_plot = np.linspace(min_angle, max_angle, 200)\n",
    "    betas_plot = np.linspace(min_angle, max_angle, 200)\n",
    "    X, Y = np.meshgrid(alphas_plot, betas_plot)\n",
    "    Z = f(X, Y, target)\n",
    "    fig, ax = plt.subplots(figsize=(9, 9))\n",
    "\n",
    "    plt.contourf(X, Y, Z, levels=150, cmap=plt.cm.plasma)\n",
    "    plt.colorbar()\n",
    "    if alphas and betas:\n",
    "        plt.plot(alphas,betas, \"-x\")\n",
    "    return None\n",
    "\n",
    "\n",
    "def plot_3dsurface(alphas, betas, target=[-.25, -1], min_angle=-np.pi, max_angle=np.pi):\n",
    "    fig, ax = plt.subplots(subplot_kw={\"projection\": \"3d\"})\n",
    "    alphas_plot = np.linspace(min_angle, max_angle, 200)\n",
    "    betas_plot = np.linspace(min_angle, max_angle, 200)\n",
    "    X, Y = np.meshgrid(alphas_plot, betas_plot)\n",
    "    Z = f(X, Y, target)\n",
    "    surf = ax.plot_surface(X, Y, Z, cmap=plt.cm.plasma,\n",
    "                           linewidth=0, antialiased=False)\n",
    "\n",
    "    fig.colorbar(surf, shrink=0.5, aspect=5)\n",
    "    plt.show()\n",
    "    return None"
   ]
  },
  {
   "cell_type": "code",
   "execution_count": 3,
   "id": "a7c470c5",
   "metadata": {},
   "outputs": [],
   "source": [
    "def animate(target_X, target_Y, combo):\n",
    "    alpha, beta = combo\n",
    "    target = [target_X, target_Y]\n",
    "    plt.cla()\n",
    "    ax.set_xlim((-2,2))\n",
    "    ax.set_ylim((-2,2))\n",
    "    ax.set_aspect(\"equal\")\n",
    "    ax.grid()\n",
    "    ax.plot([0, np.cos(alpha)], [0, np.sin(alpha)], color='b')\n",
    "    ax.plot([np.cos(alpha), np.cos(alpha) + np.cos(beta + alpha)], [np.sin(alpha), np.sin(alpha) + np.sin(beta + alpha)], color='b')\n",
    "    ax.scatter(np.cos(alpha) + np.cos(beta + alpha), np.sin(alpha) + np.sin(beta + alpha))\n",
    "    ax.scatter(target[0], target[1], color='r', label='target')\n"
   ]
  },
  {
   "cell_type": "code",
   "execution_count": 4,
   "id": "e2a36a26",
   "metadata": {},
   "outputs": [],
   "source": [
    "def d2f_a2(a,b, target):\n",
    "    cos = np.cos\n",
    "    sin = np.sin\n",
    "    x, y = target\n",
    "    return 2*(-cos(a + b) - cos(a))*(cos(a + b) + cos(a) - x) + 2*(-sin(a + b) - sin(a))*(sin(a + b) + sin(a) - y) + 2*(-sin(a + b) - sin(a))**2 + 2*(cos(a + b) + cos(a))**2 \n",
    "\n",
    "def d2f_b2(a,b, target):\n",
    "    cos = np.cos\n",
    "    sin = np.sin\n",
    "    x, y = target\n",
    "    return -2*cos(a + b)*(cos(a + b) + cos(a) - x) - 2*sin(a + b)*(sin(a + b) + sin(a) - y) + 2\n",
    "\n",
    "def d2f_ab(a,b, target):\n",
    "    cos = np.cos\n",
    "    sin = np.sin\n",
    "    x, y = target\n",
    "    return -2*cos(a + b)*(cos(a + b) + cos(a) - x) - 2*sin(a + b)*(sin(a + b) + sin(a) - y) - 2*(-sin(a + b) - sin(a))*sin(a + b) + 2*cos(a + b)*(cos(a + b) + cos(a))\n",
    "\n",
    "def get_hessian(a, b, target):\n",
    "    return np.array([[d2f_a2(a,b, target), d2f_ab(a,b, target)],[d2f_ab(a,b, target),d2f_b2(a,b, target)]])\n",
    "\n"
   ]
  },
  {
   "cell_type": "markdown",
   "id": "d2f44416",
   "metadata": {},
   "source": [
    "## 1) Distance to target\n",
    "\n",
    "Write a function that represents the distance between the arm grip and the target, given the angles $\\alpha$ and $\\beta$ and the coordinates of the target X and Y. We will describe the angles in radians."
   ]
  },
  {
   "cell_type": "code",
   "execution_count": 2,
   "id": "cdfede85",
   "metadata": {},
   "outputs": [],
   "source": [
    "def f(alpha: float, beta: float, target_X: float, target_Y: float):\n",
    "    # YOUR CODE HERE\n",
    "    \n",
    "    return distance"
   ]
  },
  {
   "cell_type": "markdown",
   "id": "fa95c806",
   "metadata": {},
   "source": [
    "## 2) Gradient\n",
    "\n",
    "Calculate the gradient of the function you implemented above. Assuming the target is on point (-.25, -1), calculate the gradients for the case where $\\alpha$=0 and $\\beta$=0. What do the gradient values mean? Do the same for the following points:\n",
    "\n",
    "- alpha = -1, beta = -1\n",
    "- alpha = -2, beta = -1\n",
    "- alpha = 3, beta = 2\n"
   ]
  },
  {
   "cell_type": "code",
   "execution_count": null,
   "id": "0303435a",
   "metadata": {},
   "outputs": [],
   "source": [
    "def d_f(a: float, b: float, target_X: float, target_Y: float):    \n",
    "    # YOUR CODE HERE\n",
    "    \n",
    "    return gradient_alpha, gradient_beta"
   ]
  },
  {
   "cell_type": "markdown",
   "id": "723e1aaf",
   "metadata": {},
   "source": [
    "## 3) Gradient descent\n",
    "\n",
    "Using the derivative, we can minimize the distance between the target and the arm grip using the gradient descent method. Set the target to the point (-.25, -1) and the initial $\\alpha$ = 0.5$\\pi$ and $\\beta$ = -0.5$\\pi$. What would be the resulting angles after the first step taken with gradient descent and a learning rate of 0.1?"
   ]
  },
  {
   "cell_type": "code",
   "execution_count": null,
   "id": "15f5b3c9",
   "metadata": {},
   "outputs": [],
   "source": [
    "# YOUR CODE HERE"
   ]
  },
  {
   "cell_type": "markdown",
   "id": "ae6d3a47",
   "metadata": {},
   "source": [
    "## 4) More gradient descent\n",
    "\n",
    "Iteratively apply more gradient descent steps until you find the minimum of the distance function. Print the gradient and the distance after each iteration, for a total of 75 iterations, to keep track of the results. Every iteration, save the current $\\alpha$, $\\beta$ and distance to a list.\n",
    "\n",
    "Based on the printed values, did the distance function reach its minimum? Why?"
   ]
  },
  {
   "cell_type": "code",
   "execution_count": null,
   "id": "481b0da1",
   "metadata": {},
   "outputs": [],
   "source": [
    "dists = []\n",
    "alphas = []\n",
    "betas = []\n",
    "\n",
    "# YOUR CODE HERE"
   ]
  },
  {
   "cell_type": "markdown",
   "id": "4210e316",
   "metadata": {},
   "source": [
    "## 5) Plots\n",
    "\n",
    "Use the cells below to plot the evolution of $\\alpha$ and $\\beta$ on the 2d surface, how the distance evolved over the iterations, and animate the trajectory of the robot arm. \n",
    "\n",
    "- Did the function converge?\n",
    "- Has it found a local or a global minimum?\n",
    "- What can you say about the trajectory?"
   ]
  },
  {
   "cell_type": "code",
   "execution_count": null,
   "id": "769ea8a5",
   "metadata": {},
   "outputs": [],
   "source": [
    "plot_2dsurface(alphas, betas, target=(-.25, -1), min_angle=-1.5*np.pi, max_angle=1.5*np.pi)"
   ]
  },
  {
   "cell_type": "code",
   "execution_count": null,
   "id": "893ce0a2",
   "metadata": {},
   "outputs": [],
   "source": [
    "plt.plot(dists)"
   ]
  },
  {
   "cell_type": "code",
   "execution_count": null,
   "id": "36cf973b",
   "metadata": {},
   "outputs": [],
   "source": [
    "fig, ax = plt.subplots()\n",
    "FuncAnimation(fig, partial(animate, target_X, target_Y), frames=zip(alphas, betas) , interval=500, repeat=False)"
   ]
  },
  {
   "cell_type": "markdown",
   "id": "a4a82d50",
   "metadata": {},
   "source": [
    "## 6) Further experiments\n",
    "\n",
    "Test different starting points and learning rates and try to interpret the results achieved.\n",
    "\n",
    "- Are there regions the arm can not reach? \n",
    "- What effect does the learning rate have on convergence?"
   ]
  },
  {
   "cell_type": "code",
   "execution_count": null,
   "id": "60e1f215",
   "metadata": {},
   "outputs": [],
   "source": []
  },
  {
   "cell_type": "markdown",
   "id": "21b51da4",
   "metadata": {},
   "source": [
    "## 7) Newton's method\n",
    "\n",
    "Using the provided get_hessian function, re-write your loop to use Newton's method instead of gradient descent. Use these initial points: $\\alpha$ = -1.9, $\\beta$ = -1.9, target = [-1, -1] and run it for 7 iterations.\n",
    "\n",
    "Using the plotting functions from exercise 5, what would you say is the main difference between Newton's method and gradient descent?\n"
   ]
  },
  {
   "cell_type": "code",
   "execution_count": null,
   "id": "9105fa5d",
   "metadata": {},
   "outputs": [],
   "source": [
    "dists = []\n",
    "alphas = []\n",
    "betas = []\n",
    "\n",
    "# YOUR CODE HERE"
   ]
  },
  {
   "cell_type": "markdown",
   "id": "f5663f7f",
   "metadata": {},
   "source": [
    "## 8) Further experiments 2\n",
    "\n",
    "Try some experiments with different starting angles. Can you explain what is happening? You can use the below function to interpret your results."
   ]
  },
  {
   "cell_type": "code",
   "execution_count": 4,
   "id": "bcd1af0d",
   "metadata": {},
   "outputs": [],
   "source": [
    "plot_3dsurface(alphas, betas, target=(-.25, -1), min_angle=-2*np.pi, max_angle=2*np.pi)"
   ]
  },
  {
   "cell_type": "markdown",
   "id": "74f9d978",
   "metadata": {},
   "source": [
    "## 9) Constrained optimization\n",
    "\n",
    "Reuse your gradient descent code from exercise 4, and try to add the following constraint: $\\alpha$ can be anywhere between -2*$\\pi$ and 2*$\\pi$, but $\\beta$ needs to be between $0.5\\pi$ and $-0.5\\pi$. Hint: this constraint has to be applied at every iteration."
   ]
  },
  {
   "cell_type": "code",
   "execution_count": null,
   "id": "5bdbd28b",
   "metadata": {},
   "outputs": [],
   "source": [
    "dists = []\n",
    "alphas = []\n",
    "betas = []\n",
    "\n",
    "# YOUR CODE HERE"
   ]
  }
 ],
 "metadata": {
  "kernelspec": {
   "display_name": "Python 3",
   "language": "python",
   "name": "python3"
  },
  "language_info": {
   "codemirror_mode": {
    "name": "ipython",
    "version": 3
   },
   "file_extension": ".py",
   "mimetype": "text/x-python",
   "name": "python",
   "nbconvert_exporter": "python",
   "pygments_lexer": "ipython3",
   "version": "3.8.3"
  }
 },
 "nbformat": 4,
 "nbformat_minor": 5
}
