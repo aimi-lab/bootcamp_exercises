{
 "cells": [
  {
   "cell_type": "code",
   "execution_count": 1,
   "id": "3d49a60a",
   "metadata": {},
   "outputs": [],
   "source": [
    "import numpy as np\n",
    "import matplotlib.pyplot as plt"
   ]
  },
  {
   "cell_type": "markdown",
   "id": "d1235fad",
   "metadata": {},
   "source": [
    "# Newton's method\n",
    "\n",
    "Let's try to find the minimum of the function f(x) = ln(x**2 + 1) + sin(x)"
   ]
  },
  {
   "cell_type": "markdown",
   "id": "11f3819f",
   "metadata": {},
   "source": [
    "1) Plot the function within the range -7 to 7. What can you say about the minimum?"
   ]
  },
  {
   "cell_type": "markdown",
   "id": "33e58aa5",
   "metadata": {},
   "source": [
    "2) Calculate the first and second derivative on points x=2 and x=3."
   ]
  },
  {
   "cell_type": "markdown",
   "id": "96a4e0b7",
   "metadata": {},
   "source": [
    "3) With `x0=2` implement a loop to find the minimum of the function using newton's method.\n",
    "- Print intermediate results\n",
    "- What are your stop criteria? How many steps were needed?\n",
    "- Can you plot what happened?"
   ]
  },
  {
   "cell_type": "markdown",
   "id": "6c1a53e0",
   "metadata": {},
   "source": [
    "4) Repeat the previous exercise with different starting points and comment on the results achieved."
   ]
  },
  {
   "cell_type": "code",
   "execution_count": null,
   "id": "d2bcb655",
   "metadata": {},
   "outputs": [],
   "source": []
  }
 ],
 "metadata": {
  "kernelspec": {
   "display_name": "Python 3 (ipykernel)",
   "language": "python",
   "name": "python3"
  },
  "language_info": {
   "codemirror_mode": {
    "name": "ipython",
    "version": 3
   },
   "file_extension": ".py",
   "mimetype": "text/x-python",
   "name": "python",
   "nbconvert_exporter": "python",
   "pygments_lexer": "ipython3",
   "version": "3.8.13"
  }
 },
 "nbformat": 4,
 "nbformat_minor": 5
}
